{
 "cells": [
  {
   "cell_type": "markdown",
   "id": "3a52e61f-d451-4454-aea4-b4c001e99c7b",
   "metadata": {},
   "source": [
    "# SQL Agent & Data Visualisation with CrewAI\n",
    "\n",
    "- https://github.com/imanoop7/SQL-Agent-using-CrewAI-and-Groq/blob/main/crewai_agent.ipynb\n",
    "- https://www.crewai.com/"
   ]
  },
  {
   "cell_type": "markdown",
   "id": "ff97d314",
   "metadata": {},
   "source": [
    "## Imports"
   ]
  },
  {
   "cell_type": "code",
   "execution_count": 1,
   "id": "dd2b57e9-5379-42f9-96e4-51c7da1a4d63",
   "metadata": {},
   "outputs": [],
   "source": [
    "from langchain_community.tools.sql_database.tool import (\n",
    "    InfoSQLDatabaseTool,\n",
    "    ListSQLDatabaseTool,\n",
    "    QuerySQLCheckerTool,\n",
    "    QuerySQLDataBaseTool,\n",
    ")\n",
    "from langchain_community.utilities.sql_database import SQLDatabase\n",
    "\n",
    "from textwrap import dedent\n",
    "\n",
    "from langchain_openai import ChatOpenAI\n",
    "\n",
    "from crewai import Agent, Crew, Process, Task\n",
    "from crewai_tools import tool\n",
    "from crewai.crews.crew_output import CrewOutput\n",
    "\n",
    "from dotenv import load_dotenv\n",
    "import os\n",
    "import re"
   ]
  },
  {
   "cell_type": "code",
   "execution_count": 2,
   "id": "26022674-dcd2-43b7-803e-28fb90010faf",
   "metadata": {},
   "outputs": [],
   "source": [
    "# Change the default LLM\n",
    "os.environ[\"OPENAI_MODEL_NAME\"]=\"gpt-4o-mini\"\n",
    "llm = ChatOpenAI(model=\"gpt-4o-mini\")"
   ]
  },
  {
   "cell_type": "code",
   "execution_count": 3,
   "id": "cd4cd888-b0a8-48ff-8673-06e067f9ff19",
   "metadata": {},
   "outputs": [],
   "source": [
    "# Load the sql database\n",
    "db = SQLDatabase.from_uri(\"sqlite:///example.db\")"
   ]
  },
  {
   "cell_type": "markdown",
   "id": "2a69ad0d",
   "metadata": {},
   "source": [
    "## Define SQL `tools`"
   ]
  },
  {
   "cell_type": "code",
   "execution_count": 4,
   "id": "a3b63bc6-8840-4ed3-a1f9-32c6f43e12fa",
   "metadata": {},
   "outputs": [
    {
     "name": "stdout",
     "output_type": "stream",
     "text": [
      "Using Tool: list_tables\n"
     ]
    },
    {
     "data": {
      "text/plain": [
       "'users'"
      ]
     },
     "execution_count": 4,
     "metadata": {},
     "output_type": "execute_result"
    }
   ],
   "source": [
    "@tool(\"list_tables\")\n",
    "def list_tables() -> str:\n",
    "    \"\"\"List the available tables in the database\"\"\"\n",
    "    return ListSQLDatabaseTool(db=db).invoke(\"\")\n",
    "\n",
    "list_tables.run()"
   ]
  },
  {
   "cell_type": "code",
   "execution_count": 5,
   "id": "c69bc04a-fcfd-4b34-867a-590ce9032458",
   "metadata": {},
   "outputs": [
    {
     "name": "stdout",
     "output_type": "stream",
     "text": [
      "Using Tool: tables_schema\n",
      "\n",
      "CREATE TABLE users (\n",
      "\tid INTEGER, \n",
      "\tname TEXT NOT NULL, \n",
      "\tage INTEGER, \n",
      "\temail TEXT NOT NULL, \n",
      "\tregistration_date TEXT NOT NULL, \n",
      "\tPRIMARY KEY (id)\n",
      ")\n",
      "\n",
      "/*\n",
      "3 rows from users table:\n",
      "id\tname\tage\temail\tregistration_date\n",
      "1\tJonathan Johnson\t51\taustinjoshua@example.net\t2023-10-05\n",
      "2\tJason Nicholson\t27\tmartinezjamie@example.net\t2023-12-01\n",
      "3\tChad Little\t73\ttwalter@example.com\t2024-06-14\n",
      "*/\n"
     ]
    }
   ],
   "source": [
    "@tool(\"tables_schema\")\n",
    "def tables_schema(tables: str) -> str:\n",
    "    \"\"\"\n",
    "    Input is a comma-separated list of tables, output is the schema and sample rows\n",
    "    for those tables. Be sure that the tables actually exist by calling `list_tables` first!\n",
    "    Example Input: table1, table2, table3\n",
    "    \"\"\"\n",
    "    tool = InfoSQLDatabaseTool(db=db)\n",
    "    return tool.invoke(tables)\n",
    "\n",
    "print(tables_schema.run(\"users\"))"
   ]
  },
  {
   "cell_type": "code",
   "execution_count": 6,
   "id": "dc5544f4-cfc0-4866-8244-b16c710d6048",
   "metadata": {},
   "outputs": [
    {
     "name": "stdout",
     "output_type": "stream",
     "text": [
      "Using Tool: execute_sql\n"
     ]
    },
    {
     "data": {
      "text/plain": [
       "\"[(1, 'Jonathan Johnson', 51, 'austinjoshua@example.net', '2023-10-05'), (3, 'Chad Little', 73, 'twalter@example.com', '2024-06-14'), (6, 'Patrick Wood', 64, 'marywheeler@example.org', '2024-05-20'), (8, 'Elizabeth Bentley', 43, 'gardnerkayla@example.org', '2024-07-30'), (9, 'John Mullins', 66, 'iwhite@example.com', '2023-11-03')]\""
      ]
     },
     "execution_count": 6,
     "metadata": {},
     "output_type": "execute_result"
    }
   ],
   "source": [
    "@tool(\"execute_sql\")\n",
    "def execute_sql(sql_query: str) -> str:\n",
    "    \"\"\"Execute a SQL query against the database. Returns the result\"\"\"\n",
    "    return QuerySQLDataBaseTool(db=db).invoke(sql_query)\n",
    "\n",
    "execute_sql.run(\"SELECT * FROM users WHERE age > 40 LIMIT 5\")"
   ]
  },
  {
   "cell_type": "code",
   "execution_count": 7,
   "id": "ebcd4ea5-58ea-4ce1-984c-17cd7c6cd0b1",
   "metadata": {},
   "outputs": [
    {
     "name": "stdout",
     "output_type": "stream",
     "text": [
      "Using Tool: check_sql\n"
     ]
    },
    {
     "data": {
      "text/plain": [
       "'```sql\\nSELECT * FROM users WHERE age > 40 LIMIT 5\\n```'"
      ]
     },
     "execution_count": 7,
     "metadata": {},
     "output_type": "execute_result"
    }
   ],
   "source": [
    "@tool(\"check_sql\")\n",
    "def check_sql(sql_query: str) -> str:\n",
    "    \"\"\"\n",
    "    Use this tool to double check if your query is correct before executing it. Always use this\n",
    "    tool before executing a query with `execute_sql`.\n",
    "    \"\"\"\n",
    "    return QuerySQLCheckerTool(db=db, llm=llm).invoke({\"query\": sql_query})\n",
    "\n",
    "check_sql.run(\"SELECT * FROM users WHERE age > 40 LIMIT 5\")"
   ]
  },
  {
   "cell_type": "markdown",
   "id": "c9369ae9-ed18-4c89-9e6d-0413061949ef",
   "metadata": {},
   "source": [
    "## Agents\n",
    "\n",
    "Create some agents to work together in a crew:\n",
    "- `sql_dev`: creates and executes SQL queries\n",
    "- `data_visualiser`: recieves data from the `sql_dev` and creates a visualisation in plotly"
   ]
  },
  {
   "cell_type": "code",
   "execution_count": 8,
   "id": "6c8c9d14-2152-4993-a539-deea9bf6167a",
   "metadata": {},
   "outputs": [],
   "source": [
    "sql_dev = Agent(\n",
    "    role=\"Senior Database Developer\",\n",
    "    goal=\"Construct and execute SQL queries based on a request\",\n",
    "    backstory=dedent(\n",
    "        \"\"\"\n",
    "        You are an experienced database engineer who is master at creating efficient and complex SQL queries.\n",
    "        You have a deep understanding of how different databases work and how to optimize queries.\n",
    "        Use the `list_tables` to find available tables.\n",
    "        Use the `tables_schema` to understand the metadata for the tables.\n",
    "        Use the `execute_sql` to check your queries for correctness.\n",
    "        Use the `check_sql` to execute queries against the database.\n",
    "    \"\"\"\n",
    "    ),\n",
    "    llm=llm,\n",
    "    tools=[list_tables, tables_schema, execute_sql, check_sql],\n",
    "    allow_delegation=False,\n",
    ")"
   ]
  },
  {
   "cell_type": "code",
   "execution_count": 9,
   "id": "c9e76d92-6810-43d4-8f06-1a886578a182",
   "metadata": {},
   "outputs": [],
   "source": [
    "data_visualiser  = Agent(\n",
    "    role=\"Data Visualization Specialist\",\n",
    "    goal=\"You receive data from the database developer and visualize it\",\n",
    "    backstory=dedent(\n",
    "        \"\"\"\n",
    "        You have deep experience with visualizing data using Python and create\n",
    "        graphs using Plotly.\n",
    "        Your work is always based on the provided data and is clear,\n",
    "        easy-to-understand and to the point. You have attention\n",
    "        to detail and always produce very detailed work (as long as you need).\n",
    "        \"\"\"\n",
    "    ),\n",
    "    llm=llm,\n",
    "    allow_delegation=False\n",
    ")"
   ]
  },
  {
   "cell_type": "markdown",
   "id": "06edd188-b6fd-4577-8585-37b70892e5a7",
   "metadata": {},
   "source": [
    "## Tasks"
   ]
  },
  {
   "cell_type": "code",
   "execution_count": 10,
   "id": "7d959186-173e-41db-b76a-25bf4e116a4b",
   "metadata": {},
   "outputs": [],
   "source": [
    "extract_data = Task(\n",
    "    description=\"Extract data that is required for the query {query}.\",\n",
    "    expected_output=\"Database result for the query\",\n",
    "    agent=sql_dev,\n",
    ")"
   ]
  },
  {
   "cell_type": "code",
   "execution_count": 11,
   "id": "cde18d70-403a-433c-aa78-6ae14cf651d5",
   "metadata": {},
   "outputs": [],
   "source": [
    "data_visulaisation = Task(\n",
    "    description=\"Plot the data if required by the query {query}.\",\n",
    "    expected_output=\"Plotly figure\",\n",
    "    agent=data_visualiser,\n",
    "    context=[extract_data],\n",
    ")"
   ]
  },
  {
   "cell_type": "markdown",
   "id": "bf01794a-cb34-4eb1-9a80-48b519f48179",
   "metadata": {},
   "source": [
    "## Crew"
   ]
  },
  {
   "cell_type": "code",
   "execution_count": 12,
   "id": "24e4d3bc-1e5b-404a-a497-a76ea4d44f05",
   "metadata": {},
   "outputs": [],
   "source": [
    "crew = Crew(\n",
    "    agents=[sql_dev, data_visualiser],\n",
    "    tasks=[extract_data, data_visulaisation],\n",
    "    process=Process.sequential,\n",
    "    verbose=True,\n",
    "    full_output=True,\n",
    "    memory=False,\n",
    "    output_log_file=\"crew.log\",\n",
    ")"
   ]
  },
  {
   "cell_type": "code",
   "execution_count": 13,
   "id": "bc1209c6-c4f1-41f7-9bbe-f1bd141071d0",
   "metadata": {},
   "outputs": [
    {
     "name": "stdout",
     "output_type": "stream",
     "text": [
      "\u001b[1m\u001b[95m [2024-09-25 21:44:00][DEBUG]: == Working Agent: Senior Database Developer\u001b[00m\n",
      "\u001b[1m\u001b[95m [2024-09-25 21:44:00][INFO]: == Starting Task: Extract data that is required for the query Plot how many users register each month..\u001b[00m\n",
      "\u001b[1m\u001b[92m [2024-09-25 21:44:11][DEBUG]: == [Senior Database Developer] Task output: ```\n",
      "[\n",
      "    ('2023-09', 166), \n",
      "    ('2023-10', 862), \n",
      "    ('2023-11', 799), \n",
      "    ('2023-12', 842), \n",
      "    ('2024-01', 856), \n",
      "    ('2024-02', 808), \n",
      "    ('2024-03', 867), \n",
      "    ('2024-04', 799), \n",
      "    ('2024-05', 914), \n",
      "    ('2024-06', 801), \n",
      "    ('2024-07', 810), \n",
      "    ('2024-08', 826), \n",
      "    ('2024-09', 650)\n",
      "]\n",
      "```\n",
      "\n",
      "\u001b[00m\n",
      "\u001b[1m\u001b[95m [2024-09-25 21:44:11][DEBUG]: == Working Agent: Data Visualization Specialist\u001b[00m\n",
      "\u001b[1m\u001b[95m [2024-09-25 21:44:11][INFO]: == Starting Task: Plot the data if required by the query Plot how many users register each month..\u001b[00m\n",
      "\u001b[1m\u001b[92m [2024-09-25 21:44:15][DEBUG]: == [Data Visualization Specialist] Task output: ```python\n",
      "import plotly.graph_objects as go\n",
      "\n",
      "# Data provided\n",
      "data = [\n",
      "    ('2023-09', 166), \n",
      "    ('2023-10', 862), \n",
      "    ('2023-11', 799), \n",
      "    ('2023-12', 842), \n",
      "    ('2024-01', 856), \n",
      "    ('2024-02', 808), \n",
      "    ('2024-03', 867), \n",
      "    ('2024-04', 799), \n",
      "    ('2024-05', 914), \n",
      "    ('2024-06', 801), \n",
      "    ('2024-07', 810), \n",
      "    ('2024-08', 826), \n",
      "    ('2024-09', 650)\n",
      "]\n",
      "\n",
      "# Extracting the months and user counts\n",
      "months, user_counts = zip(*data)\n",
      "\n",
      "# Creating the Plotly figure\n",
      "fig = go.Figure()\n",
      "\n",
      "# Adding a bar chart for user registrations\n",
      "fig.add_trace(go.Bar(\n",
      "    x=months,\n",
      "    y=user_counts,\n",
      "    marker_color='royalblue'\n",
      "))\n",
      "\n",
      "# Updating layout for better readability\n",
      "fig.update_layout(\n",
      "    title='Monthly User Registrations',\n",
      "    xaxis_title='Month',\n",
      "    yaxis_title='Number of Users Registered',\n",
      "    xaxis_tickangle=-45,\n",
      "    yaxis=dict(\n",
      "        title='Number of Users',\n",
      "        gridcolor='lightgrey'\n",
      "    ),\n",
      "    plot_bgcolor='white'\n",
      ")\n",
      "\n",
      "# Show the figure\n",
      "fig.show()\n",
      "```\n",
      "\n",
      "This code creates a bar chart using Plotly to visualize the number of users registered each month. The x-axis represents the months, while the y-axis shows the number of users registered. The chart is designed to be clear and informative, with appropriate titles and labels for ease of understanding.\n",
      "\n",
      "\u001b[00m\n"
     ]
    }
   ],
   "source": [
    "inputs = {\n",
    "    \"query\": \"Plot how many users register each month.\"\n",
    "}\n",
    "\n",
    "result = crew.kickoff(inputs=inputs)"
   ]
  },
  {
   "cell_type": "code",
   "execution_count": 14,
   "id": "195b57e3",
   "metadata": {},
   "outputs": [],
   "source": [
    "# Custom parser\n",
    "def extract_python(crew_output: CrewOutput) -> str:\n",
    "    \"\"\"Extracts python content from a string where python code is embedded between ```python and ``` tags.\n",
    "\n",
    "    Parameters:\n",
    "        text (str): The text containing the python code content.\n",
    "\n",
    "    Returns:\n",
    "        str: A text string of the first python match.\n",
    "    \"\"\"\n",
    "    text = crew_output.raw\n",
    "    # Define the regular expression pattern to match JSON blocks\n",
    "    pattern = r\"```python(.*?)```\"\n",
    "\n",
    "    # Find all non-overlapping matches of the pattern in the string\n",
    "    matches = re.findall(pattern, text, re.DOTALL)\n",
    "\n",
    "    # Return the list of matched JSON strings, stripping any leading or trailing whitespace\n",
    "    try:\n",
    "        return matches[0].strip()\n",
    "    except Exception:\n",
    "        raise ValueError(f\"Failed to parse: {message}\")"
   ]
  },
  {
   "cell_type": "code",
   "execution_count": 15,
   "id": "b036c468",
   "metadata": {},
   "outputs": [],
   "source": [
    "python_output_code = extract_python(result)"
   ]
  },
  {
   "cell_type": "code",
   "execution_count": 16,
   "id": "8bc9a5af",
   "metadata": {},
   "outputs": [
    {
     "data": {
      "text/plain": [
       "\"import plotly.graph_objects as go\\n\\n# Data provided\\ndata = [\\n    ('2023-09', 166), \\n    ('2023-10', 862), \\n    ('2023-11', 799), \\n    ('2023-12', 842), \\n    ('2024-01', 856), \\n    ('2024-02', 808), \\n    ('2024-03', 867), \\n    ('2024-04', 799), \\n    ('2024-05', 914), \\n    ('2024-06', 801), \\n    ('2024-07', 810), \\n    ('2024-08', 826), \\n    ('2024-09', 650)\\n]\\n\\n# Extracting the months and user counts\\nmonths, user_counts = zip(*data)\\n\\n# Creating the Plotly figure\\nfig = go.Figure()\\n\\n# Adding a bar chart for user registrations\\nfig.add_trace(go.Bar(\\n    x=months,\\n    y=user_counts,\\n    marker_color='royalblue'\\n))\\n\\n# Updating layout for better readability\\nfig.update_layout(\\n    title='Monthly User Registrations',\\n    xaxis_title='Month',\\n    yaxis_title='Number of Users Registered',\\n    xaxis_tickangle=-45,\\n    yaxis=dict(\\n        title='Number of Users',\\n        gridcolor='lightgrey'\\n    ),\\n    plot_bgcolor='white'\\n)\\n\\n# Show the figure\\nfig.show()\""
      ]
     },
     "execution_count": 16,
     "metadata": {},
     "output_type": "execute_result"
    }
   ],
   "source": [
    "python_output_code"
   ]
  },
  {
   "cell_type": "markdown",
   "id": "141140c7",
   "metadata": {},
   "source": [
    "<h2 style=\"color: red;\">Warning! Running the cell below will execute the (arbitrary) python code generated by the LLM Crew. Make sure you've cheked the code before running.</h2>"
   ]
  },
  {
   "cell_type": "code",
   "execution_count": 17,
   "id": "25451349",
   "metadata": {},
   "outputs": [
    {
     "data": {
      "application/vnd.plotly.v1+json": {
       "config": {
        "plotlyServerURL": "https://plot.ly"
       },
       "data": [
        {
         "marker": {
          "color": "royalblue"
         },
         "type": "bar",
         "x": [
          "2023-09",
          "2023-10",
          "2023-11",
          "2023-12",
          "2024-01",
          "2024-02",
          "2024-03",
          "2024-04",
          "2024-05",
          "2024-06",
          "2024-07",
          "2024-08",
          "2024-09"
         ],
         "y": [
          166,
          862,
          799,
          842,
          856,
          808,
          867,
          799,
          914,
          801,
          810,
          826,
          650
         ]
        }
       ],
       "layout": {
        "plot_bgcolor": "white",
        "template": {
         "data": {
          "bar": [
           {
            "error_x": {
             "color": "#2a3f5f"
            },
            "error_y": {
             "color": "#2a3f5f"
            },
            "marker": {
             "line": {
              "color": "#E5ECF6",
              "width": 0.5
             },
             "pattern": {
              "fillmode": "overlay",
              "size": 10,
              "solidity": 0.2
             }
            },
            "type": "bar"
           }
          ],
          "barpolar": [
           {
            "marker": {
             "line": {
              "color": "#E5ECF6",
              "width": 0.5
             },
             "pattern": {
              "fillmode": "overlay",
              "size": 10,
              "solidity": 0.2
             }
            },
            "type": "barpolar"
           }
          ],
          "carpet": [
           {
            "aaxis": {
             "endlinecolor": "#2a3f5f",
             "gridcolor": "white",
             "linecolor": "white",
             "minorgridcolor": "white",
             "startlinecolor": "#2a3f5f"
            },
            "baxis": {
             "endlinecolor": "#2a3f5f",
             "gridcolor": "white",
             "linecolor": "white",
             "minorgridcolor": "white",
             "startlinecolor": "#2a3f5f"
            },
            "type": "carpet"
           }
          ],
          "choropleth": [
           {
            "colorbar": {
             "outlinewidth": 0,
             "ticks": ""
            },
            "type": "choropleth"
           }
          ],
          "contour": [
           {
            "colorbar": {
             "outlinewidth": 0,
             "ticks": ""
            },
            "colorscale": [
             [
              0,
              "#0d0887"
             ],
             [
              0.1111111111111111,
              "#46039f"
             ],
             [
              0.2222222222222222,
              "#7201a8"
             ],
             [
              0.3333333333333333,
              "#9c179e"
             ],
             [
              0.4444444444444444,
              "#bd3786"
             ],
             [
              0.5555555555555556,
              "#d8576b"
             ],
             [
              0.6666666666666666,
              "#ed7953"
             ],
             [
              0.7777777777777778,
              "#fb9f3a"
             ],
             [
              0.8888888888888888,
              "#fdca26"
             ],
             [
              1,
              "#f0f921"
             ]
            ],
            "type": "contour"
           }
          ],
          "contourcarpet": [
           {
            "colorbar": {
             "outlinewidth": 0,
             "ticks": ""
            },
            "type": "contourcarpet"
           }
          ],
          "heatmap": [
           {
            "colorbar": {
             "outlinewidth": 0,
             "ticks": ""
            },
            "colorscale": [
             [
              0,
              "#0d0887"
             ],
             [
              0.1111111111111111,
              "#46039f"
             ],
             [
              0.2222222222222222,
              "#7201a8"
             ],
             [
              0.3333333333333333,
              "#9c179e"
             ],
             [
              0.4444444444444444,
              "#bd3786"
             ],
             [
              0.5555555555555556,
              "#d8576b"
             ],
             [
              0.6666666666666666,
              "#ed7953"
             ],
             [
              0.7777777777777778,
              "#fb9f3a"
             ],
             [
              0.8888888888888888,
              "#fdca26"
             ],
             [
              1,
              "#f0f921"
             ]
            ],
            "type": "heatmap"
           }
          ],
          "heatmapgl": [
           {
            "colorbar": {
             "outlinewidth": 0,
             "ticks": ""
            },
            "colorscale": [
             [
              0,
              "#0d0887"
             ],
             [
              0.1111111111111111,
              "#46039f"
             ],
             [
              0.2222222222222222,
              "#7201a8"
             ],
             [
              0.3333333333333333,
              "#9c179e"
             ],
             [
              0.4444444444444444,
              "#bd3786"
             ],
             [
              0.5555555555555556,
              "#d8576b"
             ],
             [
              0.6666666666666666,
              "#ed7953"
             ],
             [
              0.7777777777777778,
              "#fb9f3a"
             ],
             [
              0.8888888888888888,
              "#fdca26"
             ],
             [
              1,
              "#f0f921"
             ]
            ],
            "type": "heatmapgl"
           }
          ],
          "histogram": [
           {
            "marker": {
             "pattern": {
              "fillmode": "overlay",
              "size": 10,
              "solidity": 0.2
             }
            },
            "type": "histogram"
           }
          ],
          "histogram2d": [
           {
            "colorbar": {
             "outlinewidth": 0,
             "ticks": ""
            },
            "colorscale": [
             [
              0,
              "#0d0887"
             ],
             [
              0.1111111111111111,
              "#46039f"
             ],
             [
              0.2222222222222222,
              "#7201a8"
             ],
             [
              0.3333333333333333,
              "#9c179e"
             ],
             [
              0.4444444444444444,
              "#bd3786"
             ],
             [
              0.5555555555555556,
              "#d8576b"
             ],
             [
              0.6666666666666666,
              "#ed7953"
             ],
             [
              0.7777777777777778,
              "#fb9f3a"
             ],
             [
              0.8888888888888888,
              "#fdca26"
             ],
             [
              1,
              "#f0f921"
             ]
            ],
            "type": "histogram2d"
           }
          ],
          "histogram2dcontour": [
           {
            "colorbar": {
             "outlinewidth": 0,
             "ticks": ""
            },
            "colorscale": [
             [
              0,
              "#0d0887"
             ],
             [
              0.1111111111111111,
              "#46039f"
             ],
             [
              0.2222222222222222,
              "#7201a8"
             ],
             [
              0.3333333333333333,
              "#9c179e"
             ],
             [
              0.4444444444444444,
              "#bd3786"
             ],
             [
              0.5555555555555556,
              "#d8576b"
             ],
             [
              0.6666666666666666,
              "#ed7953"
             ],
             [
              0.7777777777777778,
              "#fb9f3a"
             ],
             [
              0.8888888888888888,
              "#fdca26"
             ],
             [
              1,
              "#f0f921"
             ]
            ],
            "type": "histogram2dcontour"
           }
          ],
          "mesh3d": [
           {
            "colorbar": {
             "outlinewidth": 0,
             "ticks": ""
            },
            "type": "mesh3d"
           }
          ],
          "parcoords": [
           {
            "line": {
             "colorbar": {
              "outlinewidth": 0,
              "ticks": ""
             }
            },
            "type": "parcoords"
           }
          ],
          "pie": [
           {
            "automargin": true,
            "type": "pie"
           }
          ],
          "scatter": [
           {
            "fillpattern": {
             "fillmode": "overlay",
             "size": 10,
             "solidity": 0.2
            },
            "type": "scatter"
           }
          ],
          "scatter3d": [
           {
            "line": {
             "colorbar": {
              "outlinewidth": 0,
              "ticks": ""
             }
            },
            "marker": {
             "colorbar": {
              "outlinewidth": 0,
              "ticks": ""
             }
            },
            "type": "scatter3d"
           }
          ],
          "scattercarpet": [
           {
            "marker": {
             "colorbar": {
              "outlinewidth": 0,
              "ticks": ""
             }
            },
            "type": "scattercarpet"
           }
          ],
          "scattergeo": [
           {
            "marker": {
             "colorbar": {
              "outlinewidth": 0,
              "ticks": ""
             }
            },
            "type": "scattergeo"
           }
          ],
          "scattergl": [
           {
            "marker": {
             "colorbar": {
              "outlinewidth": 0,
              "ticks": ""
             }
            },
            "type": "scattergl"
           }
          ],
          "scattermapbox": [
           {
            "marker": {
             "colorbar": {
              "outlinewidth": 0,
              "ticks": ""
             }
            },
            "type": "scattermapbox"
           }
          ],
          "scatterpolar": [
           {
            "marker": {
             "colorbar": {
              "outlinewidth": 0,
              "ticks": ""
             }
            },
            "type": "scatterpolar"
           }
          ],
          "scatterpolargl": [
           {
            "marker": {
             "colorbar": {
              "outlinewidth": 0,
              "ticks": ""
             }
            },
            "type": "scatterpolargl"
           }
          ],
          "scatterternary": [
           {
            "marker": {
             "colorbar": {
              "outlinewidth": 0,
              "ticks": ""
             }
            },
            "type": "scatterternary"
           }
          ],
          "surface": [
           {
            "colorbar": {
             "outlinewidth": 0,
             "ticks": ""
            },
            "colorscale": [
             [
              0,
              "#0d0887"
             ],
             [
              0.1111111111111111,
              "#46039f"
             ],
             [
              0.2222222222222222,
              "#7201a8"
             ],
             [
              0.3333333333333333,
              "#9c179e"
             ],
             [
              0.4444444444444444,
              "#bd3786"
             ],
             [
              0.5555555555555556,
              "#d8576b"
             ],
             [
              0.6666666666666666,
              "#ed7953"
             ],
             [
              0.7777777777777778,
              "#fb9f3a"
             ],
             [
              0.8888888888888888,
              "#fdca26"
             ],
             [
              1,
              "#f0f921"
             ]
            ],
            "type": "surface"
           }
          ],
          "table": [
           {
            "cells": {
             "fill": {
              "color": "#EBF0F8"
             },
             "line": {
              "color": "white"
             }
            },
            "header": {
             "fill": {
              "color": "#C8D4E3"
             },
             "line": {
              "color": "white"
             }
            },
            "type": "table"
           }
          ]
         },
         "layout": {
          "annotationdefaults": {
           "arrowcolor": "#2a3f5f",
           "arrowhead": 0,
           "arrowwidth": 1
          },
          "autotypenumbers": "strict",
          "coloraxis": {
           "colorbar": {
            "outlinewidth": 0,
            "ticks": ""
           }
          },
          "colorscale": {
           "diverging": [
            [
             0,
             "#8e0152"
            ],
            [
             0.1,
             "#c51b7d"
            ],
            [
             0.2,
             "#de77ae"
            ],
            [
             0.3,
             "#f1b6da"
            ],
            [
             0.4,
             "#fde0ef"
            ],
            [
             0.5,
             "#f7f7f7"
            ],
            [
             0.6,
             "#e6f5d0"
            ],
            [
             0.7,
             "#b8e186"
            ],
            [
             0.8,
             "#7fbc41"
            ],
            [
             0.9,
             "#4d9221"
            ],
            [
             1,
             "#276419"
            ]
           ],
           "sequential": [
            [
             0,
             "#0d0887"
            ],
            [
             0.1111111111111111,
             "#46039f"
            ],
            [
             0.2222222222222222,
             "#7201a8"
            ],
            [
             0.3333333333333333,
             "#9c179e"
            ],
            [
             0.4444444444444444,
             "#bd3786"
            ],
            [
             0.5555555555555556,
             "#d8576b"
            ],
            [
             0.6666666666666666,
             "#ed7953"
            ],
            [
             0.7777777777777778,
             "#fb9f3a"
            ],
            [
             0.8888888888888888,
             "#fdca26"
            ],
            [
             1,
             "#f0f921"
            ]
           ],
           "sequentialminus": [
            [
             0,
             "#0d0887"
            ],
            [
             0.1111111111111111,
             "#46039f"
            ],
            [
             0.2222222222222222,
             "#7201a8"
            ],
            [
             0.3333333333333333,
             "#9c179e"
            ],
            [
             0.4444444444444444,
             "#bd3786"
            ],
            [
             0.5555555555555556,
             "#d8576b"
            ],
            [
             0.6666666666666666,
             "#ed7953"
            ],
            [
             0.7777777777777778,
             "#fb9f3a"
            ],
            [
             0.8888888888888888,
             "#fdca26"
            ],
            [
             1,
             "#f0f921"
            ]
           ]
          },
          "colorway": [
           "#636efa",
           "#EF553B",
           "#00cc96",
           "#ab63fa",
           "#FFA15A",
           "#19d3f3",
           "#FF6692",
           "#B6E880",
           "#FF97FF",
           "#FECB52"
          ],
          "font": {
           "color": "#2a3f5f"
          },
          "geo": {
           "bgcolor": "white",
           "lakecolor": "white",
           "landcolor": "#E5ECF6",
           "showlakes": true,
           "showland": true,
           "subunitcolor": "white"
          },
          "hoverlabel": {
           "align": "left"
          },
          "hovermode": "closest",
          "mapbox": {
           "style": "light"
          },
          "paper_bgcolor": "white",
          "plot_bgcolor": "#E5ECF6",
          "polar": {
           "angularaxis": {
            "gridcolor": "white",
            "linecolor": "white",
            "ticks": ""
           },
           "bgcolor": "#E5ECF6",
           "radialaxis": {
            "gridcolor": "white",
            "linecolor": "white",
            "ticks": ""
           }
          },
          "scene": {
           "xaxis": {
            "backgroundcolor": "#E5ECF6",
            "gridcolor": "white",
            "gridwidth": 2,
            "linecolor": "white",
            "showbackground": true,
            "ticks": "",
            "zerolinecolor": "white"
           },
           "yaxis": {
            "backgroundcolor": "#E5ECF6",
            "gridcolor": "white",
            "gridwidth": 2,
            "linecolor": "white",
            "showbackground": true,
            "ticks": "",
            "zerolinecolor": "white"
           },
           "zaxis": {
            "backgroundcolor": "#E5ECF6",
            "gridcolor": "white",
            "gridwidth": 2,
            "linecolor": "white",
            "showbackground": true,
            "ticks": "",
            "zerolinecolor": "white"
           }
          },
          "shapedefaults": {
           "line": {
            "color": "#2a3f5f"
           }
          },
          "ternary": {
           "aaxis": {
            "gridcolor": "white",
            "linecolor": "white",
            "ticks": ""
           },
           "baxis": {
            "gridcolor": "white",
            "linecolor": "white",
            "ticks": ""
           },
           "bgcolor": "#E5ECF6",
           "caxis": {
            "gridcolor": "white",
            "linecolor": "white",
            "ticks": ""
           }
          },
          "title": {
           "x": 0.05
          },
          "xaxis": {
           "automargin": true,
           "gridcolor": "white",
           "linecolor": "white",
           "ticks": "",
           "title": {
            "standoff": 15
           },
           "zerolinecolor": "white",
           "zerolinewidth": 2
          },
          "yaxis": {
           "automargin": true,
           "gridcolor": "white",
           "linecolor": "white",
           "ticks": "",
           "title": {
            "standoff": 15
           },
           "zerolinecolor": "white",
           "zerolinewidth": 2
          }
         }
        },
        "title": {
         "text": "Monthly User Registrations"
        },
        "xaxis": {
         "tickangle": -45,
         "title": {
          "text": "Month"
         }
        },
        "yaxis": {
         "gridcolor": "lightgrey",
         "title": {
          "text": "Number of Users"
         }
        }
       }
      }
     },
     "metadata": {},
     "output_type": "display_data"
    }
   ],
   "source": [
    "exec(python_output_code)"
   ]
  },
  {
   "cell_type": "code",
   "execution_count": 20,
   "id": "29fd40b7",
   "metadata": {},
   "outputs": [
    {
     "name": "stdout",
     "output_type": "stream",
     "text": [
      "Using Tool: execute_sql\n"
     ]
    },
    {
     "data": {
      "text/plain": [
       "\"[('2023-09', 166), ('2023-10', 862), ('2023-11', 799), ('2023-12', 842), ('2024-01', 856), ('2024-02', 808), ('2024-03', 867), ('2024-04', 799), ('2024-05', 914), ('2024-06', 801), ('2024-07', 810), ('2024-08', 826), ('2024-09', 650)]\""
      ]
     },
     "execution_count": 20,
     "metadata": {},
     "output_type": "execute_result"
    }
   ],
   "source": [
    "sql_query = \"SELECT strftime('%Y-%m', registration_date) AS registration_month, COUNT(*) AS registrations_count FROM users GROUP BY registration_month ORDER BY registration_month\"\n",
    "execute_sql.run(sql_query)"
   ]
  },
  {
   "cell_type": "code",
   "execution_count": null,
   "id": "f3bbb508",
   "metadata": {},
   "outputs": [],
   "source": []
  }
 ],
 "metadata": {
  "kernelspec": {
   "display_name": ".venv",
   "language": "python",
   "name": "python3"
  },
  "language_info": {
   "codemirror_mode": {
    "name": "ipython",
    "version": 3
   },
   "file_extension": ".py",
   "mimetype": "text/x-python",
   "name": "python",
   "nbconvert_exporter": "python",
   "pygments_lexer": "ipython3",
   "version": "3.10.4"
  }
 },
 "nbformat": 4,
 "nbformat_minor": 5
}
